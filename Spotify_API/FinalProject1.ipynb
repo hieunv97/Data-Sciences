{
 "cells": [
  {
   "cell_type": "markdown",
   "metadata": {},
   "source": [
    "# CS181 Final Project\n",
    "## Spotify API and Billboard Webscraping\n",
    "### Alex Tubbs and Hieu Nguyen Notebook 1"
   ]
  },
  {
   "cell_type": "markdown",
   "metadata": {},
   "source": [
    "In this notebook, we are creating a url that can be shared with classmates. If they accept and allow us access, they will receive a code which they'll give to us, and then we can exchange that code for a token. With that token, we will then be able to access a specified amount of data about that user and their Spotify account, and use this to study listening patterns of our class."
   ]
  },
  {
   "cell_type": "code",
   "execution_count": 1,
   "metadata": {
    "collapsed": true
   },
   "outputs": [],
   "source": [
    "import json\n",
    "import requests"
   ]
  },
  {
   "cell_type": "code",
   "execution_count": 2,
   "metadata": {
    "collapsed": true
   },
   "outputs": [],
   "source": [
    "with open(\"creds.json\", \"r\") as file:\n",
    "    creds = json.load(file)"
   ]
  },
  {
   "cell_type": "code",
   "execution_count": 3,
   "metadata": {},
   "outputs": [
    {
     "name": "stdout",
     "output_type": "stream",
     "text": [
      "https://accounts.spotify.com/authorize\n"
     ]
    }
   ],
   "source": [
    "protocol = \"https\"\n",
    "location = \"accounts.spotify.com\"\n",
    "auth_resource = \"/authorize\"\n",
    "\n",
    "authurl_fmt = \"{}://{}{}\"\n",
    "authurl = authurl_fmt.format(protocol, location, auth_resource)\n",
    "print(authurl)"
   ]
  },
  {
   "cell_type": "markdown",
   "metadata": {},
   "source": [
    "Spotify's documentation was super helpful for this first notebook, laying out the exact url we need with the parameters and what needed to be in each of those parameters. Because of this we really didn't have many issues with creating the url. The one issue we had was instead of having spaces between the scopes we tried to use +'s to make it more like a url, but it worked once we realized it needed to be a space separated list and changed it to spaces."
   ]
  },
  {
   "cell_type": "code",
   "execution_count": 4,
   "metadata": {
    "collapsed": true
   },
   "outputs": [],
   "source": [
    "urlquery = {}\n",
    "urlquery['client_id'] = creds['spotify']['appid']\n",
    "urlquery['redirect_uri'] = creds['spotify']['redirect_uri']\n",
    "urlquery['response_type'] = 'code'\n",
    "urlquery['state'] = '12345678910'\n",
    "urlquery['scope'] = \"user-read-recently-played user-follow-read user-top-read user-library-read\""
   ]
  },
  {
   "cell_type": "markdown",
   "metadata": {},
   "source": [
    "We decided on these scopes because they all are read only, so we couldn't accidentally change anything on anyone's account. This also gave us a wide range of data to collect since we weren't positive on the questions that we wanted to ask, so we would have access to different aspects of people's listening, whether it be what they're listening to recently, what they've listened to the most, or the songs and artists they've saved and followed, which could indicate preferences."
   ]
  },
  {
   "cell_type": "code",
   "execution_count": 5,
   "metadata": {
    "scrolled": true
   },
   "outputs": [
    {
     "name": "stdout",
     "output_type": "stream",
     "text": [
      "https://accounts.spotify.com/authorize?client_id=dd7d22f635cc461fb583a5ad33eeba1c&redirect_uri=https%3A%2F%2Flocalhost%2Fcallback%2F&response_type=code&state=12345678910&scope=user-read-recently-played+user-follow-read+user-top-read+user-library-read\n"
     ]
    }
   ],
   "source": [
    "session = requests.Session()\n",
    "p = requests.Request('GET', authurl, params=urlquery).prepare()\n",
    "print(p.url)"
   ]
  },
  {
   "cell_type": "markdown",
   "metadata": {},
   "source": [
    "We then gave the url to the class through notebowl, and got a decent number of responses. Unfortunately we were only able to get 6 people including us, because a couple codes timed out before we could get to them since they were sent after the class period was over. Once we went to use the refresh token and obtain new access tokens, another couple users didn't work, so that left us with 6 people. This definitely turned out to be a bit of an issue once we attempted to start collecting data, because having more people would have just helped us find trends easier."
   ]
  },
  {
   "cell_type": "code",
   "execution_count": 6,
   "metadata": {},
   "outputs": [
    {
     "name": "stdout",
     "output_type": "stream",
     "text": [
      "Enter a User: Alex\n",
      "Enter Code for Alex: code\n",
      "Enter a User: \n"
     ]
    }
   ],
   "source": [
    "def getCodeDict():\n",
    "    codemap = {}\n",
    "    uservalue = input(\"Enter a User: \")\n",
    "    while uservalue != \"\":\n",
    "        codevalue = input(\"Enter Code for {}: \".format(uservalue))\n",
    "        codemap[uservalue] = codevalue\n",
    "    \n",
    "        uservalue = input(\"Enter a User: \")\n",
    "    return codemap\n",
    "codemap = getCodeDict()"
   ]
  },
  {
   "cell_type": "code",
   "execution_count": 7,
   "metadata": {},
   "outputs": [
    {
     "name": "stdout",
     "output_type": "stream",
     "text": [
      "HTTP error on exhange of code for token 400 {\"error\":\"invalid_grant\",\"error_description\":\"Invalid authorization code\"}\n"
     ]
    }
   ],
   "source": [
    "def getToken(codemap):\n",
    "    protocol = \"https\"\n",
    "    location = \"accounts.spotify.com\"\n",
    "    auth_resource = \"/api/token\"\n",
    "    access_fmt = \"{}://{}{}\"\n",
    "    accessurl = access_fmt.format(protocol, location, auth_resource)\n",
    "\n",
    "    dataD = {}\n",
    "    dataD['client_id'] = creds['spotify']['appid']\n",
    "    dataD['client_secret'] = creds['spotify']['appsecret']\n",
    "    dataD['redirect_uri'] = creds['spotify']['redirect_uri']\n",
    "    dataD['grant_type'] = \"authorization_code\"\n",
    "    resp = requests.post(accessurl, data=dataD)\n",
    "\n",
    "    tokenmap = {}\n",
    "    for user, code in codemap.items():\n",
    "        dataD['code'] = code\n",
    "        resp = requests.post(accessurl, data = dataD)\n",
    "        if resp.status_code == 200:\n",
    "            retval = resp.json()\n",
    "            if 'access_token' in retval:\n",
    "                tokenmap[user] = [retval['refresh_token'], retval['access_token']]\n",
    "            else:\n",
    "                print('No access token found in result:', str(retval))\n",
    "        else:\n",
    "            print(\"HTTP error on exhange of code for token\", str(resp.status_code), str(resp.text))\n",
    "\n",
    "    return tokenmap\n",
    "\n",
    "tokenmap = getToken(codemap)"
   ]
  },
  {
   "cell_type": "markdown",
   "metadata": {},
   "source": [
    "We used only a slightly different version to collect multiple tokens than the only you gave to us. We changed the data dictionary according to the specifications in Spotify's Documentation, so that it had all of the necessary information in the post body to communicate with Spotify. We also changed the original function so that we collected both the refresh token and the access token in the tokenmap, after realizing that we needed both since the token was only good for an hour. We changed it to collect both when we only received Hieu's access token, and realized afterwards that we had no way to get to his refresh token, which was necessary for when we wanted to do data collection. This was easily fixable because Hieu could just request a new code. Luckily we didn't need to get more codes from the class, since we changed it in time to get the refresh token from everyone else."
   ]
  }
 ],
 "metadata": {
  "kernelspec": {
   "display_name": "Python 3",
   "language": "python",
   "name": "python3"
  },
  "language_info": {
   "codemirror_mode": {
    "name": "ipython",
    "version": 3
   },
   "file_extension": ".py",
   "mimetype": "text/x-python",
   "name": "python",
   "nbconvert_exporter": "python",
   "pygments_lexer": "ipython3",
   "version": "3.6.1"
  }
 },
 "nbformat": 4,
 "nbformat_minor": 2
}
